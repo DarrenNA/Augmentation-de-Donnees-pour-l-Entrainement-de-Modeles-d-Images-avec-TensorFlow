{
 "cells": [
  {
   "cell_type": "code",
   "execution_count": 1,
   "id": "b0ad188a",
   "metadata": {},
   "outputs": [
    {
     "name": "stdout",
     "output_type": "stream",
     "text": [
      "WARNING:tensorflow:From C:\\Users\\Ziad\\anaconda3\\Lib\\site-packages\\keras\\src\\losses.py:2976: The name tf.losses.sparse_softmax_cross_entropy is deprecated. Please use tf.compat.v1.losses.sparse_softmax_cross_entropy instead.\n",
      "\n"
     ]
    }
   ],
   "source": [
    "import tensorflow as tf\n",
    "from tensorflow.keras import layers, models\n",
    "from tensorflow.keras.datasets import cifar10\n",
    "from tensorflow.keras.preprocessing.image import ImageDataGenerator\n",
    "import matplotlib.pyplot as plt"
   ]
  },
  {
   "cell_type": "code",
   "execution_count": 2,
   "id": "13e0913e",
   "metadata": {},
   "outputs": [],
   "source": [
    "(x_train, y_train), (x_test, y_test) = cifar10.load_data()"
   ]
  },
  {
   "cell_type": "code",
   "execution_count": 3,
   "id": "a1724eaf",
   "metadata": {},
   "outputs": [],
   "source": [
    "x_train, x_test = x_train / 255.0, x_test / 255.0"
   ]
  },
  {
   "cell_type": "code",
   "execution_count": 4,
   "id": "7ea9f4b6",
   "metadata": {},
   "outputs": [],
   "source": [
    "data_generator = ImageDataGenerator(\n",
    "    rotation_range=20,\n",
    "    width_shift_range=0.2,\n",
    "    height_shift_range=0.2,\n",
    "    horizontal_flip=True\n",
    ")"
   ]
  },
  {
   "cell_type": "code",
   "execution_count": 5,
   "id": "018e9d01",
   "metadata": {},
   "outputs": [],
   "source": [
    "data_generator.fit(x_train)"
   ]
  },
  {
   "cell_type": "code",
   "execution_count": 7,
   "id": "9851730a",
   "metadata": {},
   "outputs": [
    {
     "data": {
      "image/png": "[encoded data removed]",
      "text/plain": [
       "<Figure size 800x400 with 2 Axes>"
      ]
     },
     "metadata": {},
     "output_type": "display_data"
    }
   ],
   "source": [
    "augmented_images = data_generator.flow(x_train[:1], batch_size=1)\n",
    "fig, axs = plt.subplots(1, 2, figsize=(8, 4))\n",
    "\n",
    "axs[0].imshow(x_train[0])\n",
    "axs[0].set_title('Image Originale')\n",
    "axs[0].axis('off')\n",
    "\n",
    "axs[1].imshow(augmented_images[0][0])\n",
    "axs[1].set_title('Image Augmentée')\n",
    "axs[1].axis('off')\n",
    "\n",
    "plt.show()\n"
   ]
  },
  {
   "cell_type": "code",
   "execution_count": 8,
   "id": "8dd832ae",
   "metadata": {},
   "outputs": [
    {
     "name": "stdout",
     "output_type": "stream",
     "text": [
      "WARNING:tensorflow:From C:\\Users\\Ziad\\anaconda3\\Lib\\site-packages\\keras\\src\\backend.py:873: The name tf.get_default_graph is deprecated. Please use tf.compat.v1.get_default_graph instead.\n",
      "\n",
      "WARNING:tensorflow:From C:\\Users\\Ziad\\anaconda3\\Lib\\site-packages\\keras\\src\\layers\\normalization\\batch_normalization.py:979: The name tf.nn.fused_batch_norm is deprecated. Please use tf.compat.v1.nn.fused_batch_norm instead.\n",
      "\n",
      "WARNING:tensorflow:From C:\\Users\\Ziad\\anaconda3\\Lib\\site-packages\\keras\\src\\optimizers\\__init__.py:309: The name tf.train.Optimizer is deprecated. Please use tf.compat.v1.train.Optimizer instead.\n",
      "\n"
     ]
    }
   ],
   "source": [
    "model = models.Sequential()\n",
    "\n",
    "model.add(layers.Conv2D(32, (3, 3), activation='relu', input_shape=(32, 32, 3)))\n",
    "model.add(layers.BatchNormalization())\n",
    "model.add(layers.Conv2D(32, (3, 3), activation='relu'))\n",
    "model.add(layers.BatchNormalization())\n",
    "model.add(layers.MaxPooling2D((2, 2)))\n",
    "model.add(layers.Dropout(0.25))\n",
    "\n",
    "model.add(layers.Conv2D(64, (3, 3), activation='relu'))\n",
    "model.add(layers.BatchNormalization())\n",
    "model.add(layers.Conv2D(64, (3, 3), activation='relu'))\n",
    "model.add(layers.BatchNormalization())\n",
    "model.add(layers.MaxPooling2D((2, 2)))\n",
    "model.add(layers.Dropout(0.25))\n",
    "\n",
    "model.add(layers.Flatten())\n",
    "model.add(layers.Dense(256, activation='relu'))\n",
    "model.add(layers.BatchNormalization())\n",
    "model.add(layers.Dropout(0.5))\n",
    "model.add(layers.Dense(10, activation='softmax'))\n",
    "\n",
    "model.compile(optimizer='adam',\n",
    "              loss='sparse_categorical_crossentropy',\n",
    "              metrics=['accuracy'])"
   ]
  },
  {
   "cell_type": "code",
   "execution_count": 9,
   "id": "66f53182",
   "metadata": {},
   "outputs": [
    {
     "name": "stdout",
     "output_type": "stream",
     "text": [
      "Epoch 1/20\n",
      "WARNING:tensorflow:From C:\\Users\\Ziad\\anaconda3\\Lib\\site-packages\\keras\\src\\utils\\tf_utils.py:492: The name tf.ragged.RaggedTensorValue is deprecated. Please use tf.compat.v1.ragged.RaggedTensorValue instead.\n",
      "\n",
      "WARNING:tensorflow:From C:\\Users\\Ziad\\anaconda3\\Lib\\site-packages\\keras\\src\\engine\\base_layer_utils.py:384: The name tf.executing_eagerly_outside_functions is deprecated. Please use tf.compat.v1.executing_eagerly_outside_functions instead.\n",
      "\n",
      "352/352 [==============================] - 144s 346ms/step - loss: 1.7155 - accuracy: 0.4327 - val_loss: 2.4029 - val_accuracy: 0.2506\n",
      "Epoch 2/20\n",
      "352/352 [==============================] - 106s 302ms/step - loss: 1.1637 - accuracy: 0.5859 - val_loss: 1.0062 - val_accuracy: 0.6356\n",
      "Epoch 3/20\n",
      "352/352 [==============================] - 104s 297ms/step - loss: 0.9961 - accuracy: 0.6488 - val_loss: 0.9268 - val_accuracy: 0.6778\n",
      "Epoch 4/20\n",
      "352/352 [==============================] - 110s 311ms/step - loss: 0.9004 - accuracy: 0.6824 - val_loss: 0.8816 - val_accuracy: 0.6956\n",
      "Epoch 5/20\n",
      "352/352 [==============================] - 109s 309ms/step - loss: 0.8157 - accuracy: 0.7140 - val_loss: 0.7593 - val_accuracy: 0.7346\n",
      "Epoch 6/20\n",
      "352/352 [==============================] - 67s 189ms/step - loss: 0.7725 - accuracy: 0.7314 - val_loss: 0.7298 - val_accuracy: 0.7410\n",
      "Epoch 7/20\n",
      "352/352 [==============================] - 55s 156ms/step - loss: 0.7248 - accuracy: 0.7450 - val_loss: 0.7245 - val_accuracy: 0.7434\n",
      "Epoch 8/20\n",
      "352/352 [==============================] - 60s 169ms/step - loss: 0.6807 - accuracy: 0.7585 - val_loss: 0.6827 - val_accuracy: 0.7578\n",
      "Epoch 9/20\n",
      "352/352 [==============================] - 112s 319ms/step - loss: 0.6529 - accuracy: 0.7706 - val_loss: 0.6831 - val_accuracy: 0.7612\n",
      "Epoch 10/20\n",
      "352/352 [==============================] - 68s 192ms/step - loss: 0.6286 - accuracy: 0.7793 - val_loss: 0.6533 - val_accuracy: 0.7774\n",
      "Epoch 11/20\n",
      "352/352 [==============================] - 67s 191ms/step - loss: 0.5958 - accuracy: 0.7911 - val_loss: 0.7422 - val_accuracy: 0.7354\n",
      "Epoch 12/20\n",
      "352/352 [==============================] - 64s 182ms/step - loss: 0.5705 - accuracy: 0.7999 - val_loss: 0.5956 - val_accuracy: 0.7972\n",
      "Epoch 13/20\n",
      "352/352 [==============================] - 61s 172ms/step - loss: 0.5530 - accuracy: 0.8027 - val_loss: 0.6481 - val_accuracy: 0.7816\n",
      "Epoch 14/20\n",
      "352/352 [==============================] - 66s 186ms/step - loss: 0.5302 - accuracy: 0.8137 - val_loss: 0.6036 - val_accuracy: 0.7928\n",
      "Epoch 15/20\n",
      "352/352 [==============================] - 73s 207ms/step - loss: 0.5113 - accuracy: 0.8185 - val_loss: 0.6338 - val_accuracy: 0.7912\n",
      "Epoch 16/20\n",
      "352/352 [==============================] - 74s 209ms/step - loss: 0.4986 - accuracy: 0.8243 - val_loss: 0.6165 - val_accuracy: 0.7918\n",
      "Epoch 17/20\n",
      "352/352 [==============================] - 69s 196ms/step - loss: 0.4796 - accuracy: 0.8307 - val_loss: 0.6359 - val_accuracy: 0.7878\n",
      "Epoch 18/20\n",
      "352/352 [==============================] - 64s 182ms/step - loss: 0.4693 - accuracy: 0.8323 - val_loss: 0.5802 - val_accuracy: 0.8042\n",
      "Epoch 19/20\n",
      "352/352 [==============================] - 65s 184ms/step - loss: 0.4557 - accuracy: 0.8396 - val_loss: 0.5952 - val_accuracy: 0.8050\n",
      "Epoch 20/20\n",
      "352/352 [==============================] - 64s 181ms/step - loss: 0.4428 - accuracy: 0.8419 - val_loss: 0.6041 - val_accuracy: 0.7996\n"
     ]
    },
    {
     "data": {
      "text/plain": [
       "<keras.src.callbacks.History at 0x24e2baa80d0>"
      ]
     },
     "execution_count": 9,
     "metadata": {},
     "output_type": "execute_result"
    }
   ],
   "source": [
    "model.fit(x_train, y_train, epochs=20, batch_size=128, validation_split=0.1)\n"
   ]
  },
  {
   "cell_type": "code",
   "execution_count": 10,
   "id": "2e0f008f",
   "metadata": {},
   "outputs": [
    {
     "name": "stdout",
     "output_type": "stream",
     "text": [
      "313/313 - 5s - loss: 0.6251 - accuracy: 0.7969 - 5s/epoch - 15ms/step\n",
      "\n",
      "Test accuracy (non augmenté): 0.7968999743461609\n"
     ]
    }
   ],
   "source": [
    "test_loss, test_acc = model.evaluate(x_test, y_test, verbose=2)\n",
    "print(f'\\nTest accuracy (non augmenté): {test_acc}')"
   ]
  },
  {
   "cell_type": "code",
   "execution_count": 11,
   "id": "832f7e8d",
   "metadata": {},
   "outputs": [],
   "source": [
    "augmented_images_generator = data_generator.flow(x_test, y_test)"
   ]
  },
  {
   "cell_type": "code",
   "execution_count": 12,
   "id": "9073b211",
   "metadata": {},
   "outputs": [
    {
     "name": "stdout",
     "output_type": "stream",
     "text": [
      "313/313 - 12s - loss: 1.2810 - accuracy: 0.5949 - 12s/epoch - 37ms/step\n",
      "\n",
      "Test accuracy (augmenté): 0.5949000120162964\n"
     ]
    }
   ],
   "source": [
    "test_loss_aug, test_acc_aug = model.evaluate(augmented_images_generator, verbose=2)\n",
    "print(f'\\nTest accuracy (augmenté): {test_acc_aug}')"
   ]
  },
  {
   "cell_type": "code",
   "execution_count": null,
   "id": "ea1902bd",
   "metadata": {},
   "outputs": [],
   "source": []
  }
 ],
 "metadata": {
  "kernelspec": {
   "display_name": "Python 3 (ipykernel)",
   "language": "python",
   "name": "python3"
  },
  "language_info": {
   "codemirror_mode": {
    "name": "ipython",
    "version": 3
   },
   "file_extension": ".py",
   "mimetype": "text/x-python",
   "name": "python",
   "nbconvert_exporter": "python",
   "pygments_lexer": "ipython3",
   "version": "3.11.5"
  }
 },
 "nbformat": 4,
 "nbformat_minor": 5
}
